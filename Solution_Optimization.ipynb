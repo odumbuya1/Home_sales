{
 "cells": [
  {
   "cell_type": "markdown",
   "metadata": {},
   "source": [
    "## Optimize the Model"
   ]
  },
  {
   "cell_type": "code",
   "execution_count": 1,
   "metadata": {},
   "outputs": [
    {
     "name": "stdout",
     "output_type": "stream",
     "text": [
      "WARNING:tensorflow:From c:\\Users\\osman\\anaconda3\\envs\\yourenvname\\lib\\site-packages\\keras\\src\\losses.py:2976: The name tf.losses.sparse_softmax_cross_entropy is deprecated. Please use tf.compat.v1.losses.sparse_softmax_cross_entropy instead.\n",
      "\n"
     ]
    },
    {
     "data": {
      "text/html": [
       "<div>\n",
       "<style scoped>\n",
       "    .dataframe tbody tr th:only-of-type {\n",
       "        vertical-align: middle;\n",
       "    }\n",
       "\n",
       "    .dataframe tbody tr th {\n",
       "        vertical-align: top;\n",
       "    }\n",
       "\n",
       "    .dataframe thead th {\n",
       "        text-align: right;\n",
       "    }\n",
       "</style>\n",
       "<table border=\"1\" class=\"dataframe\">\n",
       "  <thead>\n",
       "    <tr style=\"text-align: right;\">\n",
       "      <th></th>\n",
       "      <th>EIN</th>\n",
       "      <th>NAME</th>\n",
       "      <th>APPLICATION_TYPE</th>\n",
       "      <th>AFFILIATION</th>\n",
       "      <th>CLASSIFICATION</th>\n",
       "      <th>USE_CASE</th>\n",
       "      <th>ORGANIZATION</th>\n",
       "      <th>STATUS</th>\n",
       "      <th>INCOME_AMT</th>\n",
       "      <th>SPECIAL_CONSIDERATIONS</th>\n",
       "      <th>ASK_AMT</th>\n",
       "      <th>IS_SUCCESSFUL</th>\n",
       "    </tr>\n",
       "  </thead>\n",
       "  <tbody>\n",
       "    <tr>\n",
       "      <th>0</th>\n",
       "      <td>10520599</td>\n",
       "      <td>BLUE KNIGHTS MOTORCYCLE CLUB</td>\n",
       "      <td>T10</td>\n",
       "      <td>Independent</td>\n",
       "      <td>C1000</td>\n",
       "      <td>ProductDev</td>\n",
       "      <td>Association</td>\n",
       "      <td>1</td>\n",
       "      <td>0</td>\n",
       "      <td>N</td>\n",
       "      <td>5000</td>\n",
       "      <td>1</td>\n",
       "    </tr>\n",
       "    <tr>\n",
       "      <th>1</th>\n",
       "      <td>10531628</td>\n",
       "      <td>AMERICAN CHESAPEAKE CLUB CHARITABLE TR</td>\n",
       "      <td>T3</td>\n",
       "      <td>Independent</td>\n",
       "      <td>C2000</td>\n",
       "      <td>Preservation</td>\n",
       "      <td>Co-operative</td>\n",
       "      <td>1</td>\n",
       "      <td>1-9999</td>\n",
       "      <td>N</td>\n",
       "      <td>108590</td>\n",
       "      <td>1</td>\n",
       "    </tr>\n",
       "    <tr>\n",
       "      <th>2</th>\n",
       "      <td>10547893</td>\n",
       "      <td>ST CLOUD PROFESSIONAL FIREFIGHTERS</td>\n",
       "      <td>T5</td>\n",
       "      <td>CompanySponsored</td>\n",
       "      <td>C3000</td>\n",
       "      <td>ProductDev</td>\n",
       "      <td>Association</td>\n",
       "      <td>1</td>\n",
       "      <td>0</td>\n",
       "      <td>N</td>\n",
       "      <td>5000</td>\n",
       "      <td>0</td>\n",
       "    </tr>\n",
       "    <tr>\n",
       "      <th>3</th>\n",
       "      <td>10553066</td>\n",
       "      <td>SOUTHSIDE ATHLETIC ASSOCIATION</td>\n",
       "      <td>T3</td>\n",
       "      <td>CompanySponsored</td>\n",
       "      <td>C2000</td>\n",
       "      <td>Preservation</td>\n",
       "      <td>Trust</td>\n",
       "      <td>1</td>\n",
       "      <td>10000-24999</td>\n",
       "      <td>N</td>\n",
       "      <td>6692</td>\n",
       "      <td>1</td>\n",
       "    </tr>\n",
       "    <tr>\n",
       "      <th>4</th>\n",
       "      <td>10556103</td>\n",
       "      <td>GENETIC RESEARCH INSTITUTE OF THE DESERT</td>\n",
       "      <td>T3</td>\n",
       "      <td>Independent</td>\n",
       "      <td>C1000</td>\n",
       "      <td>Heathcare</td>\n",
       "      <td>Trust</td>\n",
       "      <td>1</td>\n",
       "      <td>100000-499999</td>\n",
       "      <td>N</td>\n",
       "      <td>142590</td>\n",
       "      <td>1</td>\n",
       "    </tr>\n",
       "  </tbody>\n",
       "</table>\n",
       "</div>"
      ],
      "text/plain": [
       "        EIN                                      NAME APPLICATION_TYPE  \\\n",
       "0  10520599              BLUE KNIGHTS MOTORCYCLE CLUB              T10   \n",
       "1  10531628    AMERICAN CHESAPEAKE CLUB CHARITABLE TR               T3   \n",
       "2  10547893        ST CLOUD PROFESSIONAL FIREFIGHTERS               T5   \n",
       "3  10553066            SOUTHSIDE ATHLETIC ASSOCIATION               T3   \n",
       "4  10556103  GENETIC RESEARCH INSTITUTE OF THE DESERT               T3   \n",
       "\n",
       "        AFFILIATION CLASSIFICATION      USE_CASE  ORGANIZATION  STATUS  \\\n",
       "0       Independent          C1000    ProductDev   Association       1   \n",
       "1       Independent          C2000  Preservation  Co-operative       1   \n",
       "2  CompanySponsored          C3000    ProductDev   Association       1   \n",
       "3  CompanySponsored          C2000  Preservation         Trust       1   \n",
       "4       Independent          C1000     Heathcare         Trust       1   \n",
       "\n",
       "      INCOME_AMT SPECIAL_CONSIDERATIONS  ASK_AMT  IS_SUCCESSFUL  \n",
       "0              0                      N     5000              1  \n",
       "1         1-9999                      N   108590              1  \n",
       "2              0                      N     5000              0  \n",
       "3    10000-24999                      N     6692              1  \n",
       "4  100000-499999                      N   142590              1  "
      ]
     },
     "execution_count": 1,
     "metadata": {},
     "output_type": "execute_result"
    }
   ],
   "source": [
    "# Import our dependencies\n",
    "from sklearn.model_selection import train_test_split\n",
    "from sklearn.preprocessing import StandardScaler\n",
    "import pandas as pd\n",
    "import tensorflow as tf\n",
    "\n",
    "#  Import and read the charity_data.csv.\n",
    "import pandas as pd \n",
    "application_df = pd.read_csv(\"https://static.bc-edx.com/data/dl-1-2/m21/lms/starter/charity_data.csv\")\n",
    "application_df.head()"
   ]
  },
  {
   "cell_type": "code",
   "execution_count": 2,
   "metadata": {},
   "outputs": [
    {
     "name": "stderr",
     "output_type": "stream",
     "text": [
      "C:\\Users\\osman\\AppData\\Local\\Temp\\ipykernel_11812\\2968854894.py:2: FutureWarning: In a future version of pandas all arguments of DataFrame.drop except for the argument 'labels' will be keyword-only.\n",
      "  application_df = application_df.drop([\"EIN\"],1)\n"
     ]
    }
   ],
   "source": [
    "# Drop the non-beneficial ID columns\n",
    "application_df = application_df.drop([\"EIN\"],1)"
   ]
  },
  {
   "cell_type": "code",
   "execution_count": 3,
   "metadata": {},
   "outputs": [
    {
     "data": {
      "text/plain": [
       "NAME                      19568\n",
       "APPLICATION_TYPE             17\n",
       "AFFILIATION                   6\n",
       "CLASSIFICATION               71\n",
       "USE_CASE                      5\n",
       "ORGANIZATION                  4\n",
       "STATUS                        2\n",
       "INCOME_AMT                    9\n",
       "SPECIAL_CONSIDERATIONS        2\n",
       "ASK_AMT                    8747\n",
       "IS_SUCCESSFUL                 2\n",
       "dtype: int64"
      ]
     },
     "execution_count": 3,
     "metadata": {},
     "output_type": "execute_result"
    }
   ],
   "source": [
    "application_df.nunique()"
   ]
  },
  {
   "cell_type": "code",
   "execution_count": 4,
   "metadata": {},
   "outputs": [
    {
     "data": {
      "text/plain": [
       "PARENT BOOSTER USA INC                             1260\n",
       "TOPS CLUB INC                                       765\n",
       "UNITED STATES BOWLING CONGRESS INC                  700\n",
       "WASHINGTON STATE UNIVERSITY                         492\n",
       "AMATEUR ATHLETIC UNION OF THE UNITED STATES INC     408\n",
       "                                                   ... \n",
       "OLD OAK CLIFF CONSERVATION LEAGUE INC                 6\n",
       "AMERICAN NEPHROLOGY NURSES ASSOCIATION                6\n",
       "HUMBLE ISD EDUCATIONAL SUPPORT GROUPS INC             6\n",
       "PROFESSIONAL LOADMASTER ASSOCIATION                   6\n",
       "CBMC INC                                              6\n",
       "Name: NAME, Length: 354, dtype: int64"
      ]
     },
     "execution_count": 4,
     "metadata": {},
     "output_type": "execute_result"
    }
   ],
   "source": [
    "# Look at NAME value counts for binning\n",
    "name_counts = application_df['NAME'].value_counts()\n",
    "#  How many name counts are greater than 5?\n",
    "name_counts[name_counts>5]"
   ]
  },
  {
   "cell_type": "code",
   "execution_count": 5,
   "metadata": {},
   "outputs": [
    {
     "data": {
      "text/plain": [
       "Other                                           20043\n",
       "PARENT BOOSTER USA INC                           1260\n",
       "TOPS CLUB INC                                     765\n",
       "UNITED STATES BOWLING CONGRESS INC                700\n",
       "WASHINGTON STATE UNIVERSITY                       492\n",
       "                                                ...  \n",
       "HABITAT FOR HUMANITY INTERNATIONAL                  6\n",
       "DAMAGE PREVENTION COUNCIL OF TEXAS                  6\n",
       "FLEET RESERVE ASSOCIATION                           6\n",
       "HUGH OBRIAN YOUTH LEADERSHIP                        6\n",
       "INTERNATIONAL CONGRESS OF CHURCHES MINISTERS        6\n",
       "Name: NAME, Length: 355, dtype: int64"
      ]
     },
     "execution_count": 5,
     "metadata": {},
     "output_type": "execute_result"
    }
   ],
   "source": [
    "# Determine which values to replace if counts are less than or equal to 5.\n",
    "names_to_replace = list(name_counts[name_counts <= 5].index)\n",
    "\n",
    "# Replace in dataframe\n",
    "for app in names_to_replace:\n",
    "    application_df['NAME'] = application_df['NAME'].replace(app,\"Other\")\n",
    "    \n",
    "# Check to make sure binning was successful\n",
    "application_df['NAME'].value_counts()"
   ]
  },
  {
   "cell_type": "code",
   "execution_count": 6,
   "metadata": {},
   "outputs": [
    {
     "data": {
      "text/plain": [
       "T3     27037\n",
       "T4      1542\n",
       "T6      1216\n",
       "T5      1173\n",
       "T19     1065\n",
       "T8       737\n",
       "T7       725\n",
       "T10      528\n",
       "T9       156\n",
       "T13       66\n",
       "T12       27\n",
       "T2        16\n",
       "T25        3\n",
       "T14        3\n",
       "T29        2\n",
       "T15        2\n",
       "T17        1\n",
       "Name: APPLICATION_TYPE, dtype: int64"
      ]
     },
     "execution_count": 6,
     "metadata": {},
     "output_type": "execute_result"
    }
   ],
   "source": [
    "# Look at APPLICATION_TYPE value counts for binning\n",
    "application_counts = application_df['APPLICATION_TYPE'].value_counts()\n",
    "application_counts"
   ]
  },
  {
   "cell_type": "code",
   "execution_count": 7,
   "metadata": {},
   "outputs": [
    {
     "data": {
      "text/plain": [
       "T3       27037\n",
       "T4        1542\n",
       "T6        1216\n",
       "T5        1173\n",
       "T19       1065\n",
       "T8         737\n",
       "T7         725\n",
       "T10        528\n",
       "Other      276\n",
       "Name: APPLICATION_TYPE, dtype: int64"
      ]
     },
     "execution_count": 7,
     "metadata": {},
     "output_type": "execute_result"
    }
   ],
   "source": [
    "application_types_to_replace = list(application_counts[application_counts < 500].index)\n",
    "\n",
    "# Replace in dataframe\n",
    "for app in application_types_to_replace:\n",
    "    application_df['APPLICATION_TYPE'] = application_df['APPLICATION_TYPE'].replace(app,\"Other\")\n",
    "\n",
    "# Check to make sure binning was successful\n",
    "application_df['APPLICATION_TYPE'].value_counts()"
   ]
  },
  {
   "cell_type": "code",
   "execution_count": 8,
   "metadata": {},
   "outputs": [
    {
     "data": {
      "text/plain": [
       "C1000    17326\n",
       "C2000     6074\n",
       "C1200     4837\n",
       "C3000     1918\n",
       "C2100     1883\n",
       "         ...  \n",
       "C4120        1\n",
       "C8210        1\n",
       "C2561        1\n",
       "C4500        1\n",
       "C2150        1\n",
       "Name: CLASSIFICATION, Length: 71, dtype: int64"
      ]
     },
     "execution_count": 8,
     "metadata": {},
     "output_type": "execute_result"
    }
   ],
   "source": [
    "# Look at CLASSIFICATION value counts for binning\n",
    "class_counts = application_df['CLASSIFICATION'].value_counts()\n",
    "class_counts"
   ]
  },
  {
   "cell_type": "code",
   "execution_count": 9,
   "metadata": {},
   "outputs": [
    {
     "data": {
      "text/plain": [
       "C1000    17326\n",
       "C2000     6074\n",
       "C1200     4837\n",
       "Other     2261\n",
       "C3000     1918\n",
       "C2100     1883\n",
       "Name: CLASSIFICATION, dtype: int64"
      ]
     },
     "execution_count": 9,
     "metadata": {},
     "output_type": "execute_result"
    }
   ],
   "source": [
    "# Determine which values to replace if counts are less than 1000\n",
    "classes_to_replace = list(class_counts[class_counts < 1000].index)\n",
    "\n",
    "# Replace in dataframe\n",
    "for cls in classes_to_replace:\n",
    "    application_df['CLASSIFICATION'] = application_df['CLASSIFICATION'].replace(cls,\"Other\")\n",
    "    \n",
    "# Check to make sure binning was successful\n",
    "application_df['CLASSIFICATION'].value_counts()"
   ]
  },
  {
   "cell_type": "code",
   "execution_count": 10,
   "metadata": {},
   "outputs": [],
   "source": [
    "# Generate our categorical variable lists\n",
    "application_cat = application_df.dtypes[application_df.dtypes == \"object\"].index.tolist()"
   ]
  },
  {
   "cell_type": "code",
   "execution_count": 11,
   "metadata": {},
   "outputs": [],
   "source": [
    "application_with_dummies_df = pd.get_dummies(application_df)"
   ]
  },
  {
   "cell_type": "code",
   "execution_count": 12,
   "metadata": {},
   "outputs": [],
   "source": [
    "# Split our preprocessed data into our features and target arrays\n",
    "X = application_with_dummies_df.drop([\"IS_SUCCESSFUL\"], axis='columns').values\n",
    "y = application_with_dummies_df[\"IS_SUCCESSFUL\"].values\n",
    "\n",
    "# Split the preprocessed data into a training and testing dataset\n",
    "X_train, X_test, y_train, y_test = train_test_split(X, y, random_state=78)"
   ]
  },
  {
   "cell_type": "code",
   "execution_count": 13,
   "metadata": {},
   "outputs": [],
   "source": [
    "# Create a StandardScaler instances\n",
    "scaler = StandardScaler()\n",
    "\n",
    "# Fit the StandardScaler\n",
    "X_scaler = scaler.fit(X_train)\n",
    "\n",
    "# Scale the data\n",
    "X_train_scaled = X_scaler.transform(X_train)\n",
    "X_test_scaled = X_scaler.transform(X_test)"
   ]
  },
  {
   "cell_type": "code",
   "execution_count": 14,
   "metadata": {},
   "outputs": [
    {
     "name": "stdout",
     "output_type": "stream",
     "text": [
      "WARNING:tensorflow:From c:\\Users\\osman\\anaconda3\\envs\\yourenvname\\lib\\site-packages\\keras\\src\\backend.py:873: The name tf.get_default_graph is deprecated. Please use tf.compat.v1.get_default_graph instead.\n",
      "\n",
      "Model: \"sequential\"\n",
      "_________________________________________________________________\n",
      " Layer (type)                Output Shape              Param #   \n",
      "=================================================================\n",
      " dense (Dense)               (None, 100)               39900     \n",
      "                                                                 \n",
      " dense_1 (Dense)             (None, 30)                3030      \n",
      "                                                                 \n",
      " dense_2 (Dense)             (None, 10)                310       \n",
      "                                                                 \n",
      " dense_3 (Dense)             (None, 1)                 11        \n",
      "                                                                 \n",
      "=================================================================\n",
      "Total params: 43251 (168.95 KB)\n",
      "Trainable params: 43251 (168.95 KB)\n",
      "Non-trainable params: 0 (0.00 Byte)\n",
      "_________________________________________________________________\n"
     ]
    }
   ],
   "source": [
    "# Define the model - deep neural net\n",
    "number_input_features = len(X_train[0])\n",
    "hidden_nodes_layer1 =  100\n",
    "hidden_nodes_layer2 = 30\n",
    "hidden_nodes_layer3 = 10\n",
    "\n",
    "nn = tf.keras.models.Sequential()\n",
    "\n",
    "# First hidden layer\n",
    "nn.add(\n",
    "    tf.keras.layers.Dense(units=hidden_nodes_layer1, input_dim=number_input_features, activation=\"relu\")\n",
    ")\n",
    "\n",
    "# Second hidden layer\n",
    "nn.add(tf.keras.layers.Dense(units=hidden_nodes_layer2, activation=\"sigmoid\"))\n",
    "\n",
    "# Third hidden layer\n",
    "nn.add(tf.keras.layers.Dense(units=hidden_nodes_layer3, activation=\"sigmoid\"))\n",
    "\n",
    "# Output layer\n",
    "nn.add(tf.keras.layers.Dense(units=1, activation=\"sigmoid\"))\n",
    "\n",
    "# Check the structure of the model\n",
    "nn.summary()"
   ]
  },
  {
   "cell_type": "code",
   "execution_count": 15,
   "metadata": {},
   "outputs": [
    {
     "name": "stdout",
     "output_type": "stream",
     "text": [
      "WARNING:tensorflow:From c:\\Users\\osman\\anaconda3\\envs\\yourenvname\\lib\\site-packages\\keras\\src\\optimizers\\__init__.py:309: The name tf.train.Optimizer is deprecated. Please use tf.compat.v1.train.Optimizer instead.\n",
      "\n"
     ]
    }
   ],
   "source": [
    "# Compile the model\n",
    "nn.compile(loss=\"binary_crossentropy\", optimizer=\"adam\", metrics=[\"accuracy\"])"
   ]
  },
  {
   "cell_type": "code",
   "execution_count": 16,
   "metadata": {},
   "outputs": [
    {
     "name": "stdout",
     "output_type": "stream",
     "text": [
      "Epoch 1/100\n",
      "WARNING:tensorflow:From c:\\Users\\osman\\anaconda3\\envs\\yourenvname\\lib\\site-packages\\keras\\src\\utils\\tf_utils.py:492: The name tf.ragged.RaggedTensorValue is deprecated. Please use tf.compat.v1.ragged.RaggedTensorValue instead.\n",
      "\n",
      "WARNING:tensorflow:From c:\\Users\\osman\\anaconda3\\envs\\yourenvname\\lib\\site-packages\\keras\\src\\engine\\base_layer_utils.py:384: The name tf.executing_eagerly_outside_functions is deprecated. Please use tf.compat.v1.executing_eagerly_outside_functions instead.\n",
      "\n",
      "804/804 [==============================] - 1s 1ms/step - loss: 0.4904 - accuracy: 0.7713\n",
      "Epoch 2/100\n",
      "804/804 [==============================] - 1s 1ms/step - loss: 0.4403 - accuracy: 0.7939\n",
      "Epoch 3/100\n",
      "804/804 [==============================] - 1s 1ms/step - loss: 0.4334 - accuracy: 0.7959\n",
      "Epoch 4/100\n",
      "804/804 [==============================] - 1s 941us/step - loss: 0.4299 - accuracy: 0.7954\n",
      "Epoch 5/100\n",
      "804/804 [==============================] - 1s 976us/step - loss: 0.4276 - accuracy: 0.7980\n",
      "Epoch 6/100\n",
      "804/804 [==============================] - 1s 957us/step - loss: 0.4260 - accuracy: 0.7974\n",
      "Epoch 7/100\n",
      "804/804 [==============================] - 1s 944us/step - loss: 0.4239 - accuracy: 0.7984\n",
      "Epoch 8/100\n",
      "804/804 [==============================] - 1s 996us/step - loss: 0.4228 - accuracy: 0.7998\n",
      "Epoch 9/100\n",
      "804/804 [==============================] - 1s 989us/step - loss: 0.4217 - accuracy: 0.7998\n",
      "Epoch 10/100\n",
      "804/804 [==============================] - 1s 1ms/step - loss: 0.4207 - accuracy: 0.8004\n",
      "Epoch 11/100\n",
      "804/804 [==============================] - 1s 1ms/step - loss: 0.4202 - accuracy: 0.8001\n",
      "Epoch 12/100\n",
      "804/804 [==============================] - 1s 1ms/step - loss: 0.4188 - accuracy: 0.8008\n",
      "Epoch 13/100\n",
      "804/804 [==============================] - 1s 1ms/step - loss: 0.4189 - accuracy: 0.8001\n",
      "Epoch 14/100\n",
      "804/804 [==============================] - 1s 949us/step - loss: 0.4176 - accuracy: 0.8023\n",
      "Epoch 15/100\n",
      "804/804 [==============================] - 1s 985us/step - loss: 0.4170 - accuracy: 0.8015\n",
      "Epoch 16/100\n",
      "804/804 [==============================] - 1s 953us/step - loss: 0.4164 - accuracy: 0.8025\n",
      "Epoch 17/100\n",
      "804/804 [==============================] - 1s 954us/step - loss: 0.4158 - accuracy: 0.8019\n",
      "Epoch 18/100\n",
      "804/804 [==============================] - 1s 958us/step - loss: 0.4153 - accuracy: 0.8018\n",
      "Epoch 19/100\n",
      "804/804 [==============================] - 1s 951us/step - loss: 0.4148 - accuracy: 0.8024\n",
      "Epoch 20/100\n",
      "804/804 [==============================] - 1s 946us/step - loss: 0.4144 - accuracy: 0.8024\n",
      "Epoch 21/100\n",
      "804/804 [==============================] - 1s 948us/step - loss: 0.4138 - accuracy: 0.8040\n",
      "Epoch 22/100\n",
      "804/804 [==============================] - 1s 1ms/step - loss: 0.4132 - accuracy: 0.8034\n",
      "Epoch 23/100\n",
      "804/804 [==============================] - 1s 959us/step - loss: 0.4128 - accuracy: 0.8040\n",
      "Epoch 24/100\n",
      "804/804 [==============================] - 1s 961us/step - loss: 0.4119 - accuracy: 0.8038\n",
      "Epoch 25/100\n",
      "804/804 [==============================] - 1s 961us/step - loss: 0.4116 - accuracy: 0.8035\n",
      "Epoch 26/100\n",
      "804/804 [==============================] - 1s 952us/step - loss: 0.4115 - accuracy: 0.8047\n",
      "Epoch 27/100\n",
      "804/804 [==============================] - 1s 897us/step - loss: 0.4111 - accuracy: 0.8049\n",
      "Epoch 28/100\n",
      "804/804 [==============================] - 1s 926us/step - loss: 0.4106 - accuracy: 0.8050\n",
      "Epoch 29/100\n",
      "804/804 [==============================] - 1s 945us/step - loss: 0.4102 - accuracy: 0.8052\n",
      "Epoch 30/100\n",
      "804/804 [==============================] - 1s 887us/step - loss: 0.4102 - accuracy: 0.8052\n",
      "Epoch 31/100\n",
      "804/804 [==============================] - 1s 918us/step - loss: 0.4095 - accuracy: 0.8063\n",
      "Epoch 32/100\n",
      "804/804 [==============================] - 1s 889us/step - loss: 0.4098 - accuracy: 0.8054\n",
      "Epoch 33/100\n",
      "804/804 [==============================] - 1s 920us/step - loss: 0.4085 - accuracy: 0.8060\n",
      "Epoch 34/100\n",
      "804/804 [==============================] - 1s 911us/step - loss: 0.4085 - accuracy: 0.8052\n",
      "Epoch 35/100\n",
      "804/804 [==============================] - 1s 894us/step - loss: 0.4083 - accuracy: 0.8059\n",
      "Epoch 36/100\n",
      "804/804 [==============================] - 1s 1ms/step - loss: 0.4079 - accuracy: 0.8055\n",
      "Epoch 37/100\n",
      "804/804 [==============================] - 1s 1ms/step - loss: 0.4080 - accuracy: 0.8048\n",
      "Epoch 38/100\n",
      "804/804 [==============================] - 1s 1ms/step - loss: 0.4077 - accuracy: 0.8059\n",
      "Epoch 39/100\n",
      "804/804 [==============================] - 1s 1ms/step - loss: 0.4074 - accuracy: 0.8066\n",
      "Epoch 40/100\n",
      "804/804 [==============================] - 1s 1ms/step - loss: 0.4069 - accuracy: 0.8062\n",
      "Epoch 41/100\n",
      "804/804 [==============================] - 1s 1ms/step - loss: 0.4069 - accuracy: 0.8059\n",
      "Epoch 42/100\n",
      "804/804 [==============================] - 1s 1ms/step - loss: 0.4063 - accuracy: 0.8068\n",
      "Epoch 43/100\n",
      "804/804 [==============================] - 1s 1ms/step - loss: 0.4069 - accuracy: 0.8065\n",
      "Epoch 44/100\n",
      "804/804 [==============================] - 1s 1ms/step - loss: 0.4065 - accuracy: 0.8068\n",
      "Epoch 45/100\n",
      "804/804 [==============================] - 1s 968us/step - loss: 0.4062 - accuracy: 0.8062\n",
      "Epoch 46/100\n",
      "804/804 [==============================] - 1s 963us/step - loss: 0.4062 - accuracy: 0.8065\n",
      "Epoch 47/100\n",
      "804/804 [==============================] - 1s 962us/step - loss: 0.4053 - accuracy: 0.8064\n",
      "Epoch 48/100\n",
      "804/804 [==============================] - 1s 985us/step - loss: 0.4057 - accuracy: 0.8069\n",
      "Epoch 49/100\n",
      "804/804 [==============================] - 1s 968us/step - loss: 0.4051 - accuracy: 0.8061\n",
      "Epoch 50/100\n",
      "804/804 [==============================] - 1s 943us/step - loss: 0.4054 - accuracy: 0.8072\n",
      "Epoch 51/100\n",
      "804/804 [==============================] - 1s 927us/step - loss: 0.4049 - accuracy: 0.8059\n",
      "Epoch 52/100\n",
      "804/804 [==============================] - 1s 934us/step - loss: 0.4051 - accuracy: 0.8077\n",
      "Epoch 53/100\n",
      "804/804 [==============================] - 1s 927us/step - loss: 0.4045 - accuracy: 0.8077\n",
      "Epoch 54/100\n",
      "804/804 [==============================] - 1s 910us/step - loss: 0.4045 - accuracy: 0.8074\n",
      "Epoch 55/100\n",
      "804/804 [==============================] - 1s 954us/step - loss: 0.4048 - accuracy: 0.8075\n",
      "Epoch 56/100\n",
      "804/804 [==============================] - 1s 964us/step - loss: 0.4048 - accuracy: 0.8075\n",
      "Epoch 57/100\n",
      "804/804 [==============================] - 1s 919us/step - loss: 0.4046 - accuracy: 0.8073\n",
      "Epoch 58/100\n",
      "804/804 [==============================] - 1s 907us/step - loss: 0.4042 - accuracy: 0.8076\n",
      "Epoch 59/100\n",
      "804/804 [==============================] - 1s 943us/step - loss: 0.4040 - accuracy: 0.8081\n",
      "Epoch 60/100\n",
      "804/804 [==============================] - 1s 885us/step - loss: 0.4044 - accuracy: 0.8076\n",
      "Epoch 61/100\n",
      "804/804 [==============================] - 1s 903us/step - loss: 0.4042 - accuracy: 0.8078\n",
      "Epoch 62/100\n",
      "804/804 [==============================] - 1s 958us/step - loss: 0.4045 - accuracy: 0.8071\n",
      "Epoch 63/100\n",
      "804/804 [==============================] - 1s 947us/step - loss: 0.4044 - accuracy: 0.8070\n",
      "Epoch 64/100\n",
      "804/804 [==============================] - 1s 890us/step - loss: 0.4040 - accuracy: 0.8078\n",
      "Epoch 65/100\n",
      "804/804 [==============================] - 1s 934us/step - loss: 0.4038 - accuracy: 0.8073\n",
      "Epoch 66/100\n",
      "804/804 [==============================] - 1s 897us/step - loss: 0.4035 - accuracy: 0.8078\n",
      "Epoch 67/100\n",
      "804/804 [==============================] - 1s 890us/step - loss: 0.4036 - accuracy: 0.8071\n",
      "Epoch 68/100\n",
      "804/804 [==============================] - 1s 929us/step - loss: 0.4034 - accuracy: 0.8072\n",
      "Epoch 69/100\n",
      "804/804 [==============================] - 1s 947us/step - loss: 0.4032 - accuracy: 0.8071\n",
      "Epoch 70/100\n",
      "804/804 [==============================] - 1s 890us/step - loss: 0.4033 - accuracy: 0.8075\n",
      "Epoch 71/100\n",
      "804/804 [==============================] - 1s 914us/step - loss: 0.4034 - accuracy: 0.8079\n",
      "Epoch 72/100\n",
      "804/804 [==============================] - 1s 911us/step - loss: 0.4033 - accuracy: 0.8077\n",
      "Epoch 73/100\n",
      "804/804 [==============================] - 1s 917us/step - loss: 0.4031 - accuracy: 0.8077\n",
      "Epoch 74/100\n",
      "804/804 [==============================] - 1s 919us/step - loss: 0.4026 - accuracy: 0.8071\n",
      "Epoch 75/100\n",
      "804/804 [==============================] - 1s 905us/step - loss: 0.4028 - accuracy: 0.8079\n",
      "Epoch 76/100\n",
      "804/804 [==============================] - 1s 946us/step - loss: 0.4023 - accuracy: 0.8081\n",
      "Epoch 77/100\n",
      "804/804 [==============================] - 1s 909us/step - loss: 0.4028 - accuracy: 0.8077\n",
      "Epoch 78/100\n",
      "804/804 [==============================] - 1s 878us/step - loss: 0.4026 - accuracy: 0.8078\n",
      "Epoch 79/100\n",
      "804/804 [==============================] - 1s 903us/step - loss: 0.4027 - accuracy: 0.8080\n",
      "Epoch 80/100\n",
      "804/804 [==============================] - 1s 909us/step - loss: 0.4023 - accuracy: 0.8078\n",
      "Epoch 81/100\n",
      "804/804 [==============================] - 1s 874us/step - loss: 0.4021 - accuracy: 0.8080\n",
      "Epoch 82/100\n",
      "804/804 [==============================] - 1s 912us/step - loss: 0.4019 - accuracy: 0.8090\n",
      "Epoch 83/100\n",
      "804/804 [==============================] - 1s 926us/step - loss: 0.4023 - accuracy: 0.8080\n",
      "Epoch 84/100\n",
      "804/804 [==============================] - 1s 937us/step - loss: 0.4023 - accuracy: 0.8084\n",
      "Epoch 85/100\n",
      "804/804 [==============================] - 1s 958us/step - loss: 0.4019 - accuracy: 0.8069\n",
      "Epoch 86/100\n",
      "804/804 [==============================] - 1s 930us/step - loss: 0.4024 - accuracy: 0.8078\n",
      "Epoch 87/100\n",
      "804/804 [==============================] - 1s 924us/step - loss: 0.4022 - accuracy: 0.8086\n",
      "Epoch 88/100\n",
      "804/804 [==============================] - 1s 929us/step - loss: 0.4023 - accuracy: 0.8092\n",
      "Epoch 89/100\n",
      "804/804 [==============================] - 1s 919us/step - loss: 0.4019 - accuracy: 0.8079\n",
      "Epoch 90/100\n",
      "804/804 [==============================] - 1s 901us/step - loss: 0.4021 - accuracy: 0.8085\n",
      "Epoch 91/100\n",
      "804/804 [==============================] - 1s 927us/step - loss: 0.4024 - accuracy: 0.8079\n",
      "Epoch 92/100\n",
      "804/804 [==============================] - 1s 938us/step - loss: 0.4018 - accuracy: 0.8086\n",
      "Epoch 93/100\n",
      "804/804 [==============================] - 1s 920us/step - loss: 0.4022 - accuracy: 0.8084\n",
      "Epoch 94/100\n",
      "804/804 [==============================] - 1s 880us/step - loss: 0.4012 - accuracy: 0.8084\n",
      "Epoch 95/100\n",
      "804/804 [==============================] - 1s 931us/step - loss: 0.4016 - accuracy: 0.8089\n",
      "Epoch 96/100\n",
      "804/804 [==============================] - 1s 897us/step - loss: 0.4013 - accuracy: 0.8084\n",
      "Epoch 97/100\n",
      "804/804 [==============================] - 1s 891us/step - loss: 0.4016 - accuracy: 0.8082\n",
      "Epoch 98/100\n",
      "804/804 [==============================] - 1s 938us/step - loss: 0.4013 - accuracy: 0.8090\n",
      "Epoch 99/100\n",
      "804/804 [==============================] - 1s 894us/step - loss: 0.4014 - accuracy: 0.8088\n",
      "Epoch 100/100\n",
      "804/804 [==============================] - 1s 893us/step - loss: 0.4017 - accuracy: 0.8089\n"
     ]
    }
   ],
   "source": [
    "# Train the model\n",
    "fit_model = nn.fit(X_train_scaled,y_train,epochs=100)"
   ]
  },
  {
   "cell_type": "code",
   "execution_count": 17,
   "metadata": {},
   "outputs": [
    {
     "name": "stdout",
     "output_type": "stream",
     "text": [
      "268/268 - 0s - loss: 0.4491 - accuracy: 0.7883 - 260ms/epoch - 970us/step\n",
      "Loss: 0.4491351246833801, Accuracy: 0.7883381843566895\n"
     ]
    }
   ],
   "source": [
    "# Evaluate the model using the test data\n",
    "model_loss, model_accuracy = nn.evaluate(X_test_scaled,y_test,verbose=2)\n",
    "print(f\"Loss: {model_loss}, Accuracy: {model_accuracy}\")"
   ]
  },
  {
   "cell_type": "code",
   "execution_count": 18,
   "metadata": {},
   "outputs": [
    {
     "name": "stderr",
     "output_type": "stream",
     "text": [
      "c:\\Users\\osman\\anaconda3\\envs\\yourenvname\\lib\\site-packages\\keras\\src\\engine\\training.py:3103: UserWarning: You are saving your model as an HDF5 file via `model.save()`. This file format is considered legacy. We recommend using instead the native Keras format, e.g. `model.save('my_model.keras')`.\n",
      "  saving_api.save_model(\n"
     ]
    }
   ],
   "source": [
    "# Export our model to HDF5 file\n",
    "nn.save(\"AlphabetSoupCharity_Optimization.h5\")"
   ]
  },
  {
   "cell_type": "markdown",
   "metadata": {},
   "source": [
    "#### Data Preprocessing\n",
    "----\n",
    "1. What variable(s) are considered the target for your model?\n",
    "ANSWER: The target for the model is the \"Is-Successful\" column. It signifies if the money was use effectively.\n",
    "---\n",
    "2. What variable(s) are considered to be the features for your model?\n",
    "ANSWER: The features of this model are the NAME, APPLICATION, TYPE, AFFILIATION, CLASSIFICATION, USE_CASE, ORGANIZATION, INCOME_AMT,SPECIAL_CONSIDERATIONS, STATUS, and ASK_AMT\n",
    "---\n",
    "3. What variable(s) are neither and should be removed from the input data? \n",
    "ANSWER:  EIN (Employer identificaiton) was dropped because the numbers could confuse the system into thinking its significant.\n",
    "ANSWER: A student could drop SPECIAL_CONSIDERATIONS because there is only a small percentage of cases that had any special consideration, and special considerations cannot be quantified.\n",
    "ANSWER: A student could drop STATUS because  all rows were the same value, 1.\n"
   ]
  },
  {
   "cell_type": "markdown",
   "metadata": {},
   "source": [
    "#### Compiling, Training, and Evaluating the Model\n",
    "---- \n",
    "1. How many neurons, layers, and and activation functions did you select for your neural network model, and why?\n",
    "ANSWER: In this model there are three hidden layers each with many neurons,  because this seeemed to increased the accuracy above 75%. The number of epochs wasn't changed. The first activation function was 'relu' but the 2nd and 3rd were 'sigmoid'and the output function was 'sigmoid'. Changing the 2nd and 3rd activation functions to 'sigmoid' also helped boost the accuracy. \n",
    "---\n",
    "2. Were you able to achieve the target model performance?\n",
    "ANSWER: Yes \n",
    "---\n",
    "3. What steps did you take to try and increase model performance?\n",
    "ANSWER: It required converting the NAME column into data points, which has the biggest impact on improving efficiency. And, it also required adding a third layer and using the \"sigmoid\" activation function for the 2nd and 3rd layer."
   ]
  },
  {
   "cell_type": "markdown",
   "metadata": {},
   "source": [
    "#### Summary\n",
    "----\n",
    "Overall, by increasing the accuracy above 75% we are able to correctly classify each of the points in the test data 75% of the time. And, an applicant has a 80% chance of being successful if they have the following:\n",
    "- The NAME of the applicant appears more than 5 times (they have applied more than 5 times)\n",
    "- The type of APPLICATION is one of the following; T3, T4, T5, T6, T7, T8, T10, and T19\n",
    "- The application has the following CLASSIFICATION; C1000, C2000, C3000, C1200, and C2100.\n",
    "\n",
    "A good model to recommend is the Random Forest model because Random Forest are good for classification problems. Using this model produces a 78% accuracy. "
   ]
  },
  {
   "cell_type": "code",
   "execution_count": 19,
   "metadata": {},
   "outputs": [],
   "source": [
    "from sklearn.metrics import accuracy_score\n",
    "from sklearn.ensemble import RandomForestClassifier"
   ]
  },
  {
   "cell_type": "code",
   "execution_count": 20,
   "metadata": {},
   "outputs": [
    {
     "name": "stdout",
     "output_type": "stream",
     "text": [
      " Random forest model accuracy: 0.776\n"
     ]
    }
   ],
   "source": [
    "# Create a random forest classifier.\n",
    "rf_model = RandomForestClassifier(n_estimators=128, random_state=78) \n",
    "\n",
    "# Fitting the model\n",
    "rf_model = rf_model.fit(X_train_scaled, y_train)\n",
    "\n",
    "# Evaluate the model\n",
    "y_pred = rf_model.predict(X_test_scaled)\n",
    "print(f\" Random forest model accuracy: {accuracy_score(y_test,y_pred):.3f}\")"
   ]
  },
  {
   "cell_type": "code",
   "execution_count": null,
   "metadata": {},
   "outputs": [],
   "source": []
  }
 ],
 "metadata": {
  "kernelspec": {
   "display_name": "Python 3",
   "language": "python",
   "name": "python3"
  },
  "language_info": {
   "codemirror_mode": {
    "name": "ipython",
    "version": 3
   },
   "file_extension": ".py",
   "mimetype": "text/x-python",
   "name": "python",
   "nbconvert_exporter": "python",
   "pygments_lexer": "ipython3",
   "version": "3.10.12"
  },
  "vscode": {
   "interpreter": {
    "hash": "31f2aee4e71d21fbe5cf8b01ff0e069b9275f58929596ceb00d14d90e3e16cd6"
   }
  }
 },
 "nbformat": 4,
 "nbformat_minor": 4
}
